{
 "cells": [
  {
   "cell_type": "code",
   "execution_count": 1,
   "id": "95b4db958d6bec34",
   "metadata": {
    "ExecuteTime": {
     "end_time": "2024-07-14T13:36:18.268678Z",
     "start_time": "2024-07-14T13:36:18.162368Z"
    }
   },
   "outputs": [],
   "source": [
    "import numpy as np"
   ]
  },
  {
   "cell_type": "markdown",
   "id": "6b63f53f8842abb8",
   "metadata": {},
   "source": [
    "## Numpy"
   ]
  },
  {
   "cell_type": "code",
   "execution_count": 2,
   "id": "2a661b8948cac740",
   "metadata": {
    "ExecuteTime": {
     "end_time": "2024-07-14T13:38:27.447417Z",
     "start_time": "2024-07-14T13:38:27.433882Z"
    }
   },
   "outputs": [
    {
     "data": {
      "text/plain": [
       "array([0, 1, 2, 3, 4, 5, 6, 7, 8, 9])"
      ]
     },
     "execution_count": 2,
     "metadata": {},
     "output_type": "execute_result"
    }
   ],
   "source": [
    "# Câu 1: A\n",
    "arr = np.arange(0, 10, 1)\n",
    "arr"
   ]
  },
  {
   "cell_type": "markdown",
   "id": "3fe1bb0105743e86",
   "metadata": {},
   "source": []
  },
  {
   "cell_type": "code",
   "execution_count": 3,
   "id": "73943a47ecc6ec86",
   "metadata": {
    "ExecuteTime": {
     "end_time": "2024-07-14T13:42:21.830026Z",
     "start_time": "2024-07-14T13:42:21.818971Z"
    }
   },
   "outputs": [
    {
     "data": {
      "text/plain": [
       "array([[ True,  True,  True],\n",
       "       [ True,  True,  True],\n",
       "       [ True,  True,  True]])"
      ]
     },
     "execution_count": 3,
     "metadata": {},
     "output_type": "execute_result"
    }
   ],
   "source": [
    "# Câu 2: D\n",
    "np.ones((3, 3)) > 0"
   ]
  },
  {
   "cell_type": "code",
   "execution_count": 4,
   "id": "f270e4eff260ea7d",
   "metadata": {
    "ExecuteTime": {
     "end_time": "2024-07-14T13:42:57.223409Z",
     "start_time": "2024-07-14T13:42:57.212870Z"
    }
   },
   "outputs": [
    {
     "data": {
      "text/plain": [
       "array([[ True,  True,  True],\n",
       "       [ True,  True,  True],\n",
       "       [ True,  True,  True]])"
      ]
     },
     "execution_count": 4,
     "metadata": {},
     "output_type": "execute_result"
    }
   ],
   "source": [
    "np.full((3, 3), dtype=bool, fill_value=True)"
   ]
  },
  {
   "cell_type": "code",
   "execution_count": 5,
   "id": "98b765ddbb68028f",
   "metadata": {
    "ExecuteTime": {
     "end_time": "2024-07-14T13:44:20.046786Z",
     "start_time": "2024-07-14T13:44:20.028740Z"
    }
   },
   "outputs": [
    {
     "data": {
      "text/plain": [
       "array([[ True,  True,  True],\n",
       "       [ True,  True,  True],\n",
       "       [ True,  True,  True]])"
      ]
     },
     "execution_count": 5,
     "metadata": {},
     "output_type": "execute_result"
    }
   ],
   "source": [
    "np.ones((3, 3), dtype=bool)"
   ]
  },
  {
   "cell_type": "markdown",
   "id": "91b9ed5eac849723",
   "metadata": {},
   "source": []
  },
  {
   "cell_type": "code",
   "execution_count": 6,
   "id": "d69b7a4b68983345",
   "metadata": {
    "ExecuteTime": {
     "end_time": "2024-07-14T13:46:45.514960Z",
     "start_time": "2024-07-14T13:46:45.502411Z"
    }
   },
   "outputs": [
    {
     "data": {
      "text/plain": [
       "array([1, 3, 5, 7, 9])"
      ]
     },
     "execution_count": 6,
     "metadata": {},
     "output_type": "execute_result"
    }
   ],
   "source": [
    "# Câu 3: A\n",
    "import numpy as np\n",
    "arr = np.arange(0, 10)\n",
    "arr[arr%2==1]"
   ]
  },
  {
   "cell_type": "markdown",
   "id": "d6db2d27eaf7f2f1",
   "metadata": {},
   "source": []
  },
  {
   "cell_type": "code",
   "execution_count": 7,
   "id": "87bc7ecd22561eb8",
   "metadata": {
    "ExecuteTime": {
     "end_time": "2024-07-14T13:50:28.051135Z",
     "start_time": "2024-07-14T13:50:28.036614Z"
    }
   },
   "outputs": [
    {
     "data": {
      "text/plain": [
       "array([ 0, -1,  2, -1,  4, -1,  6, -1,  8, -1])"
      ]
     },
     "execution_count": 7,
     "metadata": {},
     "output_type": "execute_result"
    }
   ],
   "source": [
    "# Câu 4: B\n",
    "arr = np.arange(0, 10)\n",
    "arr[arr%2==1] = -1\n",
    "arr"
   ]
  },
  {
   "cell_type": "markdown",
   "id": "2f1260a3c327d76b",
   "metadata": {},
   "source": []
  },
  {
   "cell_type": "code",
   "execution_count": 8,
   "id": "3b82723d7cc86c99",
   "metadata": {
    "ExecuteTime": {
     "end_time": "2024-07-14T13:56:42.495294Z",
     "start_time": "2024-07-14T13:56:42.483761Z"
    }
   },
   "outputs": [
    {
     "data": {
      "text/plain": [
       "array([[0, 1, 2, 3, 4],\n",
       "       [5, 6, 7, 8, 9]])"
      ]
     },
     "execution_count": 8,
     "metadata": {},
     "output_type": "execute_result"
    }
   ],
   "source": [
    "# Câu 5: B\n",
    "arr = np.arange(0, 10)\n",
    "arr_2d = arr.reshape(2, -1)\n",
    "arr_2d"
   ]
  },
  {
   "cell_type": "markdown",
   "id": "3dfbcfd5a087f336",
   "metadata": {},
   "source": []
  },
  {
   "cell_type": "code",
   "execution_count": 9,
   "id": "9e569459544271af",
   "metadata": {
    "ExecuteTime": {
     "end_time": "2024-07-14T14:02:59.302510Z",
     "start_time": "2024-07-14T14:02:59.294901Z"
    }
   },
   "outputs": [
    {
     "data": {
      "text/plain": [
       "array([[0, 1, 2, 3, 4],\n",
       "       [5, 6, 7, 8, 9],\n",
       "       [1, 1, 1, 1, 1],\n",
       "       [1, 1, 1, 1, 1]])"
      ]
     },
     "execution_count": 9,
     "metadata": {},
     "output_type": "execute_result"
    }
   ],
   "source": [
    "# Câu 6: A\n",
    "arr1 = np.arange(10).reshape(2, -1)\n",
    "arr2 = np.repeat(1, 10).reshape(2, -1)\n",
    "c = np.concatenate([arr1, arr2], axis=0)\n",
    "c"
   ]
  },
  {
   "cell_type": "markdown",
   "id": "6de338f1ace7dcec",
   "metadata": {},
   "source": []
  },
  {
   "cell_type": "code",
   "execution_count": 10,
   "id": "b02cbc759adbd9eb",
   "metadata": {
    "ExecuteTime": {
     "end_time": "2024-07-14T14:03:56.595517Z",
     "start_time": "2024-07-14T14:03:56.589007Z"
    }
   },
   "outputs": [
    {
     "data": {
      "text/plain": [
       "array([[0, 1, 2, 3, 4, 1, 1, 1, 1, 1],\n",
       "       [5, 6, 7, 8, 9, 1, 1, 1, 1, 1]])"
      ]
     },
     "execution_count": 10,
     "metadata": {},
     "output_type": "execute_result"
    }
   ],
   "source": [
    "# Câu 7: C\n",
    "arr1 = np.arange(10).reshape(2, -1)\n",
    "arr2 = np.repeat(1, 10).reshape(2, -1)\n",
    "c = np.concatenate([arr1, arr2], axis=1)\n",
    "c"
   ]
  },
  {
   "cell_type": "markdown",
   "id": "9c9ce90acdaf9ff4",
   "metadata": {},
   "source": []
  },
  {
   "cell_type": "code",
   "execution_count": 11,
   "id": "2103a49a381ee21c",
   "metadata": {
    "ExecuteTime": {
     "end_time": "2024-07-14T14:20:30.799228Z",
     "start_time": "2024-07-14T14:20:30.781067Z"
    }
   },
   "outputs": [
    {
     "name": "stdout",
     "output_type": "stream",
     "text": [
      "[1 1 1 2 2 2 3 3 3]\n",
      "[1 2 3 1 2 3 1 2 3]\n"
     ]
    }
   ],
   "source": [
    "# Câu 8: A\n",
    "arr = np.array([1, 2, 3])\n",
    "print(np.repeat(arr, 3))\n",
    "print(np.tile(arr, 3))"
   ]
  },
  {
   "cell_type": "markdown",
   "id": "15dc2c2b303fb3f4",
   "metadata": {},
   "source": []
  },
  {
   "cell_type": "code",
   "execution_count": 12,
   "id": "8a82364b6cef6066",
   "metadata": {
    "ExecuteTime": {
     "end_time": "2024-07-14T14:27:12.798778Z",
     "start_time": "2024-07-14T14:27:12.791241Z"
    }
   },
   "outputs": [
    {
     "data": {
      "text/plain": [
       "array([ 6,  9, 10])"
      ]
     },
     "execution_count": 12,
     "metadata": {},
     "output_type": "execute_result"
    }
   ],
   "source": [
    "# Câu 9: C\n",
    "a = np.array([2, 6, 1, 9, 10, 3, 27])\n",
    "index = np.where((a>=5) & (a<=10))\n",
    "a[index]"
   ]
  },
  {
   "cell_type": "markdown",
   "id": "51dc09dabfbc1a0d",
   "metadata": {},
   "source": []
  },
  {
   "cell_type": "code",
   "execution_count": 13,
   "id": "bbba714ea04fcdcf",
   "metadata": {
    "ExecuteTime": {
     "end_time": "2024-07-14T14:30:00.391319Z",
     "start_time": "2024-07-14T14:30:00.383307Z"
    }
   },
   "outputs": [
    {
     "data": {
      "text/plain": [
       "array([6., 7., 9., 8., 9., 7., 5.])"
      ]
     },
     "execution_count": 13,
     "metadata": {},
     "output_type": "execute_result"
    }
   ],
   "source": [
    "# Câu 10: D\n",
    "def maxx(x, y):\n",
    "    if x >= y:\n",
    "        return x\n",
    "    else:\n",
    "        return y\n",
    "\n",
    "a = np.array([5, 7, 9, 8, 6, 4, 5])\n",
    "b = np.array([6, 3, 4, 8, 9, 7, 1])\n",
    "\n",
    "pair_max = np.vectorize(maxx, otypes=[float])\n",
    "pair_max(a, b)"
   ]
  },
  {
   "cell_type": "markdown",
   "id": "3cadd633a2357648",
   "metadata": {},
   "source": []
  },
  {
   "cell_type": "code",
   "execution_count": 14,
   "id": "5bdc2d4fa45a4f8b",
   "metadata": {
    "ExecuteTime": {
     "end_time": "2024-07-14T14:31:47.736361Z",
     "start_time": "2024-07-14T14:31:47.719717Z"
    }
   },
   "outputs": [
    {
     "data": {
      "text/plain": [
       "array([6, 7, 9, 8, 9, 7, 5])"
      ]
     },
     "execution_count": 14,
     "metadata": {},
     "output_type": "execute_result"
    }
   ],
   "source": [
    "# Câu 11: A\n",
    "a = np.array([5, 7, 9, 8, 6, 4, 5])\n",
    "b = np.array([6, 3, 4, 8, 9, 7, 1])\n",
    "np.where(a<b, b, a)"
   ]
  },
  {
   "cell_type": "markdown",
   "id": "2aeb419767281e6c",
   "metadata": {},
   "source": []
  },
  {
   "cell_type": "markdown",
   "id": "19f234686fed75c3",
   "metadata": {},
   "source": [
    "## Xử lý ảnh"
   ]
  },
  {
   "cell_type": "code",
   "execution_count": 15,
   "id": "946e0f35",
   "metadata": {},
   "outputs": [],
   "source": [
    "import cv2"
   ]
  },
  {
   "cell_type": "code",
   "execution_count": 16,
   "id": "2ef6abf640cdbff8",
   "metadata": {
    "ExecuteTime": {
     "end_time": "2024-07-14T14:46:22.298348Z",
     "start_time": "2024-07-14T14:46:17.330980Z"
    }
   },
   "outputs": [
    {
     "name": "stderr",
     "output_type": "stream",
     "text": [
      "Downloading...\n",
      "From: https://drive.google.com/uc?id=1i9dqan21DjQoG5Q_VEvm0LrVwAlXD0vB\n",
      "To: d:\\Study\\AI-Book\\AIO\\Module_2\\week_1\\dog.jpeg\n",
      "\n",
      "  0%|          | 0.00/33.7k [00:00<?, ?B/s]\n",
      "100%|██████████| 33.7k/33.7k [00:00<00:00, 614kB/s]\n"
     ]
    }
   ],
   "source": [
    "# Image download\n",
    "!gdown 1i9dqan21DjQoG5Q_VEvm0LrVwAlXD0vB"
   ]
  },
  {
   "cell_type": "code",
   "execution_count": 21,
   "id": "4a59f408",
   "metadata": {},
   "outputs": [],
   "source": [
    "def convert2gray(vector):\n",
    "    return np.max(vector) * 0.5 + np.min(vector) * 0.5"
   ]
  },
  {
   "cell_type": "code",
   "execution_count": 23,
   "id": "ec46b945576a337e",
   "metadata": {
    "ExecuteTime": {
     "end_time": "2024-07-14T14:48:23.002580Z",
     "start_time": "2024-07-14T14:48:22.951924Z"
    }
   },
   "outputs": [
    {
     "data": {
      "text/plain": [
       "102.5"
      ]
     },
     "execution_count": 23,
     "metadata": {},
     "output_type": "execute_result"
    }
   ],
   "source": [
    "# Câu 12: A\n",
    "import matplotlib.image as mpimg\n",
    "img = mpimg.imread('D:\\Study\\AI-Book\\AIO\\Module_2\\week_1\\dog.jpeg')\n",
    "gray_img_01 = np.apply_along_axis(convert2gray, 2, img)\n",
    "gray_img_01[0, 0]"
   ]
  },
  {
   "cell_type": "code",
   "execution_count": 24,
   "id": "5c496077",
   "metadata": {},
   "outputs": [
    {
     "name": "stderr",
     "output_type": "stream",
     "text": [
      "Downloading...\n",
      "From: https://drive.google.com/uc?id=1i9dqan21DjQoG5Q_VEvm0LrVwAlXD0vB\n",
      "To: d:\\Study\\AI-Book\\AIO\\Module_2\\week_1\\dog.jpeg\n",
      "\n",
      "  0%|          | 0.00/33.7k [00:00<?, ?B/s]\n",
      "100%|██████████| 33.7k/33.7k [00:00<00:00, 664kB/s]\n"
     ]
    }
   ],
   "source": [
    "!gdown 1i9dqan21DjQoG5Q_VEvm0LrVwAlXD0vB"
   ]
  },
  {
   "cell_type": "code",
   "execution_count": 25,
   "id": "dbcf0104",
   "metadata": {},
   "outputs": [
    {
     "data": {
      "text/plain": [
       "107.66666666666667"
      ]
     },
     "execution_count": 25,
     "metadata": {},
     "output_type": "execute_result"
    }
   ],
   "source": [
    "# Câu 13: A\n",
    "def convert2gray_avg(vector):\n",
    "    return np.mean(vector)\n",
    "\n",
    "img = mpimg.imread('D:\\Study\\AI-Book\\AIO\\Module_2\\week_1\\dog.jpeg')\n",
    "gray_img_02 = np.apply_along_axis(convert2gray_avg, 2, img)\n",
    "gray_img_02[0, 0]"
   ]
  },
  {
   "cell_type": "code",
   "execution_count": 26,
   "id": "546fb1c2",
   "metadata": {},
   "outputs": [
    {
     "data": {
      "text/plain": [
       "126.22999999999999"
      ]
     },
     "execution_count": 26,
     "metadata": {},
     "output_type": "execute_result"
    }
   ],
   "source": [
    "# Câu 14: C\n",
    "def convert2gray_luminosity(vector):\n",
    "    return 0.21 * vector[0] + 0.72 * vector[1] + 0.07 * vector[2]\n",
    "  \n",
    "img = mpimg.imread('D:\\Study\\AI-Book\\AIO\\Module_2\\week_1\\dog.jpeg')\n",
    "gray_img_03 = np.apply_along_axis(convert2gray_luminosity, 2, img)\n",
    "gray_img_03[0, 0]"
   ]
  },
  {
   "cell_type": "markdown",
   "id": "7d4eba48",
   "metadata": {},
   "source": [
    "## Phân tích dữ liệu bảng"
   ]
  },
  {
   "cell_type": "code",
   "execution_count": 27,
   "id": "fb8b363a",
   "metadata": {},
   "outputs": [
    {
     "name": "stderr",
     "output_type": "stream",
     "text": [
      "Downloading...\n",
      "From: https://drive.google.com/uc?id=1iA0WmVfW88HyJvTBSQDI5vesf-pgKabq\n",
      "To: d:\\Study\\AI-Book\\AIO\\Module_2\\week_1\\advertising.csv\n",
      "\n",
      "  0%|          | 0.00/4.06k [00:00<?, ?B/s]\n",
      "100%|██████████| 4.06k/4.06k [00:00<?, ?B/s]\n"
     ]
    }
   ],
   "source": [
    "!gdown 1iA0WmVfW88HyJvTBSQDI5vesf-pgKabq"
   ]
  },
  {
   "cell_type": "code",
   "execution_count": 35,
   "id": "66936a71",
   "metadata": {},
   "outputs": [],
   "source": [
    "import pandas as pd\n",
    "\n",
    "df = pd.read_csv('D:\\\\Study\\\\AI-Book\\\\AIO\\\\Module_2\\\\week_1\\\\advertising.csv')\n",
    "data = df.to_numpy()"
   ]
  },
  {
   "cell_type": "code",
   "execution_count": 42,
   "id": "4c976518",
   "metadata": {},
   "outputs": [
    {
     "name": "stdout",
     "output_type": "stream",
     "text": [
      "Max: 27.0 - Index: 175\n"
     ]
    }
   ],
   "source": [
    "# Câu 15: C\n",
    "print(f'Max: {df.Sales.max()} - Index: {df.Sales.idxmax()}')"
   ]
  },
  {
   "cell_type": "code",
   "execution_count": 44,
   "id": "95e3a58e",
   "metadata": {},
   "outputs": [
    {
     "data": {
      "text/plain": [
       "147.0425"
      ]
     },
     "execution_count": 44,
     "metadata": {},
     "output_type": "execute_result"
    }
   ],
   "source": [
    "# Câu 16: B\n",
    "df['TV'].mean()"
   ]
  },
  {
   "cell_type": "code",
   "execution_count": 46,
   "id": "f3e4ea7c",
   "metadata": {},
   "outputs": [
    {
     "data": {
      "text/plain": [
       "40"
      ]
     },
     "execution_count": 46,
     "metadata": {},
     "output_type": "execute_result"
    }
   ],
   "source": [
    "# Câu 17: A\n",
    "df[df['Sales']>=20].shape[0]"
   ]
  },
  {
   "cell_type": "code",
   "execution_count": 47,
   "id": "efbf32f1",
   "metadata": {},
   "outputs": [
    {
     "data": {
      "text/plain": [
       "26.22293577981651"
      ]
     },
     "execution_count": 47,
     "metadata": {},
     "output_type": "execute_result"
    }
   ],
   "source": [
    "# Câu 18: B\n",
    "df.loc[df['Sales']>=15,'Radio'].mean()"
   ]
  },
  {
   "cell_type": "code",
   "execution_count": 48,
   "id": "bec901bd",
   "metadata": {},
   "outputs": [
    {
     "data": {
      "text/plain": [
       "1405.1"
      ]
     },
     "execution_count": 48,
     "metadata": {},
     "output_type": "execute_result"
    }
   ],
   "source": [
    "# Câu 19: C\n",
    "df.loc[df['Newspaper']>df['Newspaper'].mean(), 'Sales'].sum()"
   ]
  },
  {
   "cell_type": "code",
   "execution_count": 50,
   "id": "8b03edc7",
   "metadata": {},
   "outputs": [
    {
     "data": {
      "text/plain": [
       "['Bad', 'Bad', 'Good']"
      ]
     },
     "execution_count": 50,
     "metadata": {},
     "output_type": "execute_result"
    }
   ],
   "source": [
    "# Câu 20: C\n",
    "A = df['Sales'].mean()\n",
    "scores = ['Good' if ele > A else 'Bad' if ele < A else 'Average' for ele in df['Sales']]\n",
    "scores[7:10]"
   ]
  },
  {
   "cell_type": "code",
   "execution_count": 63,
   "id": "b618e577",
   "metadata": {},
   "outputs": [
    {
     "data": {
      "text/plain": [
       "['Bad', 'Bad', 'Good']"
      ]
     },
     "execution_count": 63,
     "metadata": {},
     "output_type": "execute_result"
    }
   ],
   "source": [
    "# Câu 21: C\n",
    "mean = df['Sales'].mean()\n",
    "A = 0\n",
    "distance = 99999\n",
    "for i in df['Sales']:\n",
    "    if abs(i - mean) < distance:\n",
    "        A = i\n",
    "        distance = abs(i - mean)\n",
    "\n",
    "scores = ['Good' if ele > A else 'Bad' if ele < A else 'Average' for ele in df['Sales']]\n",
    "scores[7:10]"
   ]
  },
  {
   "cell_type": "code",
   "execution_count": null,
   "id": "8b933ec9",
   "metadata": {},
   "outputs": [],
   "source": []
  }
 ],
 "metadata": {
  "kernelspec": {
   "display_name": "Python 3",
   "language": "python",
   "name": "python3"
  },
  "language_info": {
   "codemirror_mode": {
    "name": "ipython",
    "version": 3
   },
   "file_extension": ".py",
   "mimetype": "text/x-python",
   "name": "python",
   "nbconvert_exporter": "python",
   "pygments_lexer": "ipython3",
   "version": "3.11.5"
  }
 },
 "nbformat": 4,
 "nbformat_minor": 5
}
