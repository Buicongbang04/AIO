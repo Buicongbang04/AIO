{
 "cells": [
  {
   "cell_type": "code",
   "execution_count": 1,
   "metadata": {},
   "outputs": [],
   "source": [
    "import numpy as np"
   ]
  },
  {
   "cell_type": "code",
   "execution_count": 2,
   "metadata": {},
   "outputs": [],
   "source": [
    "matrix = np.array([[ -2 , 6] , [8 , -4]])"
   ]
  },
  {
   "cell_type": "code",
   "execution_count": 3,
   "metadata": {},
   "outputs": [],
   "source": [
    "def detMatrix(matrix):\n",
    "    return np.linalg.det(matrix)\n",
    "  \n",
    "def isInverse(matrix):\n",
    "    if detMatrix(matrix) == 0:\n",
    "        return False\n",
    "    else:\n",
    "        return True\n",
    "      \n",
    "def inverseMatrix(matrix):\n",
    "    if isInverse(matrix):\n",
    "        return np.linalg.inv(matrix)\n",
    "    else:\n",
    "        return \"Matrix is not invertible\""
   ]
  },
  {
   "cell_type": "code",
   "execution_count": 4,
   "metadata": {},
   "outputs": [],
   "source": [
    "def detMatrix1(matrix):\n",
    "    return matrix[0][0]*matrix[1][1] - matrix[0][1]*matrix[1][0]\n",
    "      \n",
    "def inverseMatrix1(matrix):\n",
    "    if isInverse(matrix):\n",
    "        det = detMatrix1(matrix)\n",
    "        inverseMatrix = 1/det * np.array([[matrix[1][1], -matrix[0][1]], [-matrix[1][0], matrix[0][0]]])\n",
    "        return inverseMatrix\n",
    "    else:\n",
    "        return \"Matrix is not invertible\""
   ]
  },
  {
   "cell_type": "code",
   "execution_count": 5,
   "metadata": {},
   "outputs": [
    {
     "name": "stdout",
     "output_type": "stream",
     "text": [
      "result 1: \n",
      " [[0.1  0.15]\n",
      " [0.2  0.05]]\n",
      "result 2: \n",
      " [[0.1  0.15]\n",
      " [0.2  0.05]]\n"
     ]
    }
   ],
   "source": [
    "print(\"result 1: \\n\", inverseMatrix(matrix))\n",
    "print(\"result 2: \\n\", inverseMatrix1(matrix))"
   ]
  },
  {
   "cell_type": "code",
   "execution_count": null,
   "metadata": {},
   "outputs": [],
   "source": []
  }
 ],
 "metadata": {
  "kernelspec": {
   "display_name": "cuda",
   "language": "python",
   "name": "python3"
  },
  "language_info": {
   "codemirror_mode": {
    "name": "ipython",
    "version": 3
   },
   "file_extension": ".py",
   "mimetype": "text/x-python",
   "name": "python",
   "nbconvert_exporter": "python",
   "pygments_lexer": "ipython3",
   "version": "3.12.4"
  }
 },
 "nbformat": 4,
 "nbformat_minor": 2
}
