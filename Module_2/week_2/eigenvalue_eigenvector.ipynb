{
 "cells": [
  {
   "cell_type": "code",
   "execution_count": 1,
   "id": "initial_id",
   "metadata": {
    "ExecuteTime": {
     "end_time": "2024-07-23T07:03:31.011226Z",
     "start_time": "2024-07-23T07:03:30.859742Z"
    },
    "collapsed": true
   },
   "outputs": [],
   "source": [
    "import numpy as np"
   ]
  },
  {
   "cell_type": "code",
   "execution_count": 2,
   "id": "a10c04a064b57fc9",
   "metadata": {
    "ExecuteTime": {
     "end_time": "2024-07-23T07:26:00.265249Z",
     "start_time": "2024-07-23T07:26:00.253283Z"
    }
   },
   "outputs": [],
   "source": [
    "def eigenvalue_eigenvector(matrix):\n",
    "    eigenvalue, eigenvector = np.linalg.eig(matrix)\n",
    "    return eigenvalue, eigenvector"
   ]
  },
  {
   "cell_type": "code",
   "execution_count": 3,
   "id": "75b47335e9cf2c16",
   "metadata": {
    "ExecuteTime": {
     "end_time": "2024-07-23T07:26:00.492601Z",
     "start_time": "2024-07-23T07:26:00.481552Z"
    }
   },
   "outputs": [],
   "source": [
    "matrix = np.array([[0.9 , 0.2] , [0.1 , 0.8]])"
   ]
  },
  {
   "cell_type": "code",
   "execution_count": 4,
   "id": "c34f698acb473518",
   "metadata": {
    "ExecuteTime": {
     "end_time": "2024-07-23T07:26:00.786605Z",
     "start_time": "2024-07-23T07:26:00.775434Z"
    }
   },
   "outputs": [],
   "source": [
    "eigenvalue, eigenvector = eigenvalue_eigenvector(matrix)"
   ]
  },
  {
   "cell_type": "code",
   "execution_count": 5,
   "id": "a5a89016c2ad5318",
   "metadata": {
    "ExecuteTime": {
     "end_time": "2024-07-23T07:26:01.351674Z",
     "start_time": "2024-07-23T07:26:01.339219Z"
    }
   },
   "outputs": [
    {
     "name": "stdout",
     "output_type": "stream",
     "text": [
      "Eigenvalue: [1.  0.7]\n",
      "Eigenvector: [[ 0.89442719 -0.70710678]\n",
      " [ 0.4472136   0.70710678]]\n"
     ]
    }
   ],
   "source": [
    "print(\"Eigenvalue:\", eigenvalue)\n",
    "print(\"Eigenvector:\", eigenvector)"
   ]
  },
  {
   "cell_type": "code",
   "execution_count": null,
   "id": "70521e391ab565a8",
   "metadata": {},
   "outputs": [],
   "source": []
  }
 ],
 "metadata": {
  "kernelspec": {
   "display_name": "Python 3",
   "language": "python",
   "name": "python3"
  },
  "language_info": {
   "codemirror_mode": {
    "name": "ipython",
    "version": 3
   },
   "file_extension": ".py",
   "mimetype": "text/x-python",
   "name": "python",
   "nbconvert_exporter": "python",
   "pygments_lexer": "ipython3",
   "version": "3.12.4"
  }
 },
 "nbformat": 4,
 "nbformat_minor": 5
}
