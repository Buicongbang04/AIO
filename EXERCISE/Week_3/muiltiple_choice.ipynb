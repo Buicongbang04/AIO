{
 "cells": [
  {
   "cell_type": "markdown",
   "metadata": {},
   "source": [
    "### Câu hỏi 1:"
   ]
  },
  {
   "cell_type": "code",
   "execution_count": 5,
   "metadata": {},
   "outputs": [
    {
     "data": {
      "text/plain": [
       "tensor([0.0900, 0.2447, 0.6652])"
      ]
     },
     "execution_count": 5,
     "metadata": {},
     "output_type": "execute_result"
    }
   ],
   "source": [
    "import torch\n",
    "import torch.nn as nn\n",
    "\n",
    "data = torch.Tensor([1,2,3])\n",
    "softmax_funct = nn.Softmax(dim=0)\n",
    "output = softmax_funct(data)\n",
    "output"
   ]
  },
  {
   "cell_type": "markdown",
   "metadata": {},
   "source": [
    "`Answer: c) [0.0900, 0.2447, 0.6652]`"
   ]
  },
  {
   "cell_type": "markdown",
   "metadata": {},
   "source": [
    "### Câu hỏi 2:"
   ]
  },
  {
   "cell_type": "code",
   "execution_count": 15,
   "metadata": {},
   "outputs": [
    {
     "data": {
      "text/plain": [
       "tensor([0.7054, 0.0351, 0.2595])"
      ]
     },
     "execution_count": 15,
     "metadata": {},
     "output_type": "execute_result"
    }
   ],
   "source": [
    "import torch\n",
    "import torch.nn as nn\n",
    "\n",
    "class MySoftmax(nn.Module):\n",
    "  def __init__(self):\n",
    "    super().__init__()\n",
    "  \n",
    "  def forward(self, x):\n",
    "    exps = torch.exp(x)\n",
    "    return exps / exps.sum()\n",
    "  \n",
    "data = torch.Tensor([5,2,4])\n",
    "my_softmax = MySoftmax()\n",
    "output = my_softmax(data)\n",
    "output"
   ]
  },
  {
   "cell_type": "markdown",
   "metadata": {},
   "source": [
    "`Answer: b) [0.7054, 0.0351, 0.2595]`"
   ]
  },
  {
   "cell_type": "markdown",
   "metadata": {},
   "source": [
    "### Câu hỏi 3:"
   ]
  },
  {
   "cell_type": "code",
   "execution_count": 14,
   "metadata": {},
   "outputs": [
    {
     "data": {
      "text/plain": [
       "tensor([0., 0., nan])"
      ]
     },
     "execution_count": 14,
     "metadata": {},
     "output_type": "execute_result"
    }
   ],
   "source": [
    "import torch\n",
    "import torch.nn as nn\n",
    "\n",
    "class MySoftmax(nn.Module):\n",
    "  def __init__(self):\n",
    "    super().__init__()\n",
    "    \n",
    "  def forward(self, x):\n",
    "    exps = torch.exp(x)\n",
    "    return exps / exps.sum()\n",
    "  \n",
    "data = torch.Tensor([1,2,300000000])\n",
    "my_softmax = MySoftmax()\n",
    "output = my_softmax(data)\n",
    "output"
   ]
  },
  {
   "cell_type": "markdown",
   "metadata": {},
   "source": [
    "`Answer: c) [0., 0., nan`"
   ]
  },
  {
   "cell_type": "markdown",
   "metadata": {},
   "source": [
    "### Câu hỏi 4:"
   ]
  },
  {
   "cell_type": "code",
   "execution_count": 16,
   "metadata": {},
   "outputs": [
    {
     "data": {
      "text/plain": [
       "tensor([0.0900, 0.2447, 0.6652])"
      ]
     },
     "execution_count": 16,
     "metadata": {},
     "output_type": "execute_result"
    }
   ],
   "source": [
    "import torch\n",
    "import torch.nn as nn\n",
    "\n",
    "class MySoftmax(nn.Module):\n",
    "  def __init__(self):\n",
    "    super().__init__()\n",
    "    \n",
    "  def forward(self, x):\n",
    "    exps = torch.exp(x)\n",
    "    return exps / exps.sum()\n",
    "  \n",
    "data = torch.Tensor([1,2,3])\n",
    "my_softmax = MySoftmax()\n",
    "output = my_softmax(data)\n",
    "output"
   ]
  },
  {
   "cell_type": "markdown",
   "metadata": {},
   "source": [
    "`Answer: b) [0.0900, 0.2447, 0.6652]`"
   ]
  },
  {
   "cell_type": "markdown",
   "metadata": {},
   "source": [
    "### Câu hỏi 5"
   ]
  },
  {
   "cell_type": "code",
   "execution_count": 18,
   "metadata": {},
   "outputs": [
    {
     "name": "stdout",
     "output_type": "stream",
     "text": [
      "Student - Name: studentZ2023 - YoB: 2011 - Grade: 6\n"
     ]
    }
   ],
   "source": [
    "from abc import ABC , abstractmethod\n",
    "class Person(ABC):\n",
    "  def __init__(self , name:str , yob:int):\n",
    "    self._name = name\n",
    "    self._yob = yob\n",
    "\n",
    "  def get_yob(self):\n",
    "    return self._yob\n",
    "  \n",
    "  @abstractmethod\n",
    "  def describe(self):\n",
    "    pass\n",
    "  \n",
    "class Student(Person):\n",
    "  def __init__(self, name: str, yob: int, grade: str):\n",
    "    super().__init__(name, yob)\n",
    "    self.grade = grade\n",
    "  \n",
    "  def describe(self):\n",
    "    print(f'Student - Name: {self._name} - YoB: {self._yob} - Grade: {self.grade}')\n",
    "\n",
    "student1 = Student(name='studentZ2023', yob=2011, grade=6)\n",
    "student1.describe()"
   ]
  },
  {
   "cell_type": "markdown",
   "metadata": {},
   "source": [
    "`Answer: a) Student - Name: studentZ2023 - YoB: 2011 - Grade: 6`"
   ]
  },
  {
   "cell_type": "markdown",
   "metadata": {},
   "source": [
    "### Câu hỏi 6"
   ]
  },
  {
   "cell_type": "code",
   "execution_count": 19,
   "metadata": {},
   "outputs": [
    {
     "name": "stdout",
     "output_type": "stream",
     "text": [
      "Teacher - Name: teacherZ2023 - YoB: 1991 - Subject: History\n"
     ]
    }
   ],
   "source": [
    "from abc import ABC, abstractmethod\n",
    "\n",
    "class Person(ABC):\n",
    "  def __init__(self, name: str, yob: int) -> None:\n",
    "    self._name = name\n",
    "    self._yob = yob\n",
    "    \n",
    "  def get_yob(self):\n",
    "    return self._yob\n",
    "  \n",
    "  @abstractmethod\n",
    "  def describe(self):\n",
    "    pass\n",
    "\n",
    "class Teacher(Person):\n",
    "  def __init__(self, name: str, yob: int, subject: str) -> None:\n",
    "    super().__init__(name, yob)\n",
    "    self._subject = subject\n",
    "  \n",
    "  def describe(self):\n",
    "    print(f'Teacher - Name: {self._name} - YoB: {self._yob} - Subject: {self._subject}')\n",
    "\n",
    "teacher1 = Teacher(name='teacherZ2023', yob=1991, subject=\"History\")\n",
    "teacher1.describe()"
   ]
  },
  {
   "cell_type": "markdown",
   "metadata": {},
   "source": [
    "`Answer: b) Teacher - Name: teacherZ2023 - YoB: 1991 - Subject: History`"
   ]
  },
  {
   "cell_type": "markdown",
   "metadata": {},
   "source": [
    "### Câu hỏi 7"
   ]
  },
  {
   "cell_type": "code",
   "execution_count": 20,
   "metadata": {},
   "outputs": [
    {
     "name": "stdout",
     "output_type": "stream",
     "text": [
      "Doctor - Name: doctorZ2023 - YoB: 1981 - Specialist: Endocrinologists\n"
     ]
    }
   ],
   "source": [
    "from abc import ABC, abstractmethod\n",
    "\n",
    "class Person(ABC):\n",
    "  def __init__(self, name: str, yob: int) -> None:\n",
    "    self._name = name\n",
    "    self._yob = yob\n",
    "    \n",
    "  def get_yob(self):\n",
    "    return self._yob\n",
    "  \n",
    "  @abstractmethod\n",
    "  def describe(self):\n",
    "    pass\n",
    "\n",
    "class Doctor(Person):\n",
    "  def __init__(self, name: str, yob: int, specialist: str) -> None:\n",
    "    super().__init__(name, yob)\n",
    "    self._specialist = specialist\n",
    "  \n",
    "  def describe(self):\n",
    "    print(f'Doctor - Name: {self._name} - YoB: {self._yob} - Specialist: {self._specialist}')\n",
    "\n",
    "doctor1 = Doctor(name='doctorZ2023', yob=1981, specialist='Endocrinologists')\n",
    "doctor1.describe()"
   ]
  },
  {
   "cell_type": "markdown",
   "metadata": {},
   "source": [
    "`Answer: a) Doctor - Name: doctorZ2023 - YoB: 1981 - Specialist: Endocrinologists`"
   ]
  },
  {
   "cell_type": "markdown",
   "metadata": {},
   "source": [
    "### Câu hỏi 8"
   ]
  },
  {
   "cell_type": "code",
   "execution_count": 23,
   "metadata": {},
   "outputs": [
    {
     "data": {
      "text/plain": [
       "2"
      ]
     },
     "execution_count": 23,
     "metadata": {},
     "output_type": "execute_result"
    }
   ],
   "source": [
    "class Ward:\n",
    "  def __init__(self, name: str) -> None:\n",
    "    self.__name = name\n",
    "    self.__listPeople = list()\n",
    "  \n",
    "  def add_person(self, person: Person):\n",
    "    self.__listPeople.append(person)\n",
    "  \n",
    "  def describe(self):\n",
    "    print(f\"Ward Name: {self.__name}\")\n",
    "    for p in self.__listPeople:\n",
    "      p.describe()\n",
    "      \n",
    "  def count_doctor(self):\n",
    "    count = 0\n",
    "    for p in self.__listPeople:\n",
    "      if isinstance(p, Doctor):\n",
    "        count += 1\n",
    "    \n",
    "    return count\n",
    "  \n",
    "student1 = Student(name='studentA', yob=2010, grade='7')\n",
    "teacher1 = Teacher(name='teacherA', yob=1969, subject=\"Math\")\n",
    "teacher2 = Teacher(name='teacherB', yob=1995, subject=\"History\")\n",
    "doctor1 = Doctor(name='doctorA', yob=1945, specialist='Endocrinologists')\n",
    "doctor2 = Doctor(name='doctorB', yob=1975, specialist='Cardiologists')\n",
    "\n",
    "ward1 = Ward(name='Ward1')\n",
    "ward1.add_person(student1)\n",
    "ward1.add_person(teacher1)\n",
    "ward1.add_person(teacher2)\n",
    "ward1.add_person(doctor1)\n",
    "ward1.add_person(doctor2)\n",
    "ward1.count_doctor()"
   ]
  },
  {
   "cell_type": "markdown",
   "metadata": {},
   "source": [
    "`Answer: c) 2`"
   ]
  },
  {
   "cell_type": "markdown",
   "metadata": {},
   "source": [
    "### Câu hỏi 9:"
   ]
  },
  {
   "cell_type": "code",
   "execution_count": 36,
   "metadata": {},
   "outputs": [
    {
     "name": "stdout",
     "output_type": "stream",
     "text": [
      "False\n"
     ]
    }
   ],
   "source": [
    "class MyStack:\n",
    "  def __init__(self, capacity) -> None:\n",
    "    self.__capacity = capacity\n",
    "    self.__stack = []\n",
    "    \n",
    "  def is_full(self):\n",
    "    return len(self.__stack) == self.__capacity\n",
    "\n",
    "  def push(self, value):\n",
    "    self.__stack = list([value, ]) + self.__stack\n",
    "    \n",
    "stack1 = MyStack(capacity=5)\n",
    "stack1.push(1)\n",
    "stack1.push(2)\n",
    "print(stack1.is_full())"
   ]
  },
  {
   "cell_type": "markdown",
   "metadata": {},
   "source": [
    "`Answer: b) False`"
   ]
  },
  {
   "cell_type": "markdown",
   "metadata": {},
   "source": [
    "### Câu hỏi 10"
   ]
  },
  {
   "cell_type": "code",
   "execution_count": 38,
   "metadata": {},
   "outputs": [
    {
     "data": {
      "text/plain": [
       "2"
      ]
     },
     "execution_count": 38,
     "metadata": {},
     "output_type": "execute_result"
    }
   ],
   "source": [
    "class MyStack:\n",
    "  def __init__(self, capacity) -> None:\n",
    "    self.__capacity = capacity\n",
    "    self.__stack = []\n",
    "    \n",
    "  def is_full(self):\n",
    "    return len(self.__stack) == self.__capacity\n",
    "\n",
    "  def push(self, value):\n",
    "    self.__stack = list([value, ]) + self.__stack\n",
    "    \n",
    "  def top(self):\n",
    "    return self.__stack[0]\n",
    "    \n",
    "stack1 = MyStack(capacity=5)\n",
    "stack1.push(1)\n",
    "stack1.push(2)\n",
    "stack1.top()"
   ]
  },
  {
   "cell_type": "markdown",
   "metadata": {},
   "source": [
    "`Answer: b) 2`"
   ]
  },
  {
   "cell_type": "markdown",
   "metadata": {},
   "source": [
    "### Câu hỏi 11"
   ]
  },
  {
   "cell_type": "code",
   "execution_count": 39,
   "metadata": {},
   "outputs": [
    {
     "name": "stdout",
     "output_type": "stream",
     "text": [
      "False\n"
     ]
    }
   ],
   "source": [
    "class MyQueue:\n",
    "  def __init__(self, capacity) -> None:\n",
    "    self.__capacity = capacity\n",
    "    self.__queue = []\n",
    "    \n",
    "  def is_full(self):\n",
    "    return len(self.__queue) == self.__capacity\n",
    "\n",
    "  def enqueue(self, value):\n",
    "    self.__queue.append(value)\n",
    "    \n",
    "queue1 = MyQueue(capacity=5)\n",
    "queue1.enqueue(1)\n",
    "queue1.enqueue(2)\n",
    "print(queue1.is_full())"
   ]
  },
  {
   "cell_type": "markdown",
   "metadata": {},
   "source": [
    "`Answer: a) False`"
   ]
  },
  {
   "cell_type": "markdown",
   "metadata": {},
   "source": [
    "### Câu hỏi 12"
   ]
  },
  {
   "cell_type": "code",
   "execution_count": 41,
   "metadata": {},
   "outputs": [
    {
     "name": "stdout",
     "output_type": "stream",
     "text": [
      "1\n"
     ]
    }
   ],
   "source": [
    "class MyQueue:\n",
    "  def __init__(self, capacity) -> None:\n",
    "    self.__capacity = capacity\n",
    "    self.__queue = []\n",
    "    \n",
    "  def is_full(self):\n",
    "    return len(self.__queue) == self.__capacity\n",
    "\n",
    "  def enqueue(self, value):\n",
    "    self.__queue.append(value)\n",
    "    \n",
    "  def front(self):\n",
    "    return self.__queue[0]\n",
    "    \n",
    "queue1 = MyQueue(capacity=5)\n",
    "queue1.enqueue(1)\n",
    "queue1.enqueue(2)\n",
    "print(queue1.front())"
   ]
  },
  {
   "cell_type": "markdown",
   "metadata": {},
   "source": [
    "`Answer: d) 1`"
   ]
  }
 ],
 "metadata": {
  "kernelspec": {
   "display_name": "base",
   "language": "python",
   "name": "python3"
  },
  "language_info": {
   "codemirror_mode": {
    "name": "ipython",
    "version": 3
   },
   "file_extension": ".py",
   "mimetype": "text/x-python",
   "name": "python",
   "nbconvert_exporter": "python",
   "pygments_lexer": "ipython3",
   "version": "3.8.19"
  }
 },
 "nbformat": 4,
 "nbformat_minor": 2
}
