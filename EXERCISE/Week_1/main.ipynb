{
 "cells": [
  {
   "cell_type": "markdown",
   "metadata": {},
   "source": [
    "## I. Tự Luận"
   ]
  },
  {
   "cell_type": "markdown",
   "metadata": {},
   "source": [
    "### `F1 Score`"
   ]
  },
  {
   "cell_type": "code",
   "execution_count": 1,
   "metadata": {},
   "outputs": [],
   "source": [
    "from F1_score import *"
   ]
  },
  {
   "cell_type": "code",
   "execution_count": 2,
   "metadata": {},
   "outputs": [
    {
     "name": "stdout",
     "output_type": "stream",
     "text": [
      "Precision is :  0.40\n",
      "Recall is :  0.33\n",
      "F1 score is :  0.36\n"
     ]
    }
   ],
   "source": [
    "print(f\"Precision is : {precision(2, 3): .2f}\")\n",
    "print(f\"Recall is : {recall(2, 4): .2f}\")\n",
    "print(f\"F1 score is : {f1_score(2, 3, 4): .2f}\")"
   ]
  },
  {
   "cell_type": "code",
   "execution_count": 3,
   "metadata": {},
   "outputs": [
    {
     "name": "stdout",
     "output_type": "stream",
     "text": [
      "tp must be an integer\n",
      "fp must be an integer\n",
      "fn must be an integer\n",
      "tp and fp and fn must be greater than 0\n"
     ]
    }
   ],
   "source": [
    "exercise1 = f1_score('a', 3, 4)\n",
    "exercise1 = f1_score(2, 'a', 4)\n",
    "exercise1 = f1_score(2, 3, 'a')\n",
    "\n",
    "exercise1 = f1_score(2, 3, 0)"
   ]
  },
  {
   "cell_type": "markdown",
   "metadata": {},
   "source": [
    "### `Activation`"
   ]
  },
  {
   "cell_type": "code",
   "execution_count": 50,
   "metadata": {},
   "outputs": [],
   "source": [
    "from Activation import *"
   ]
  },
  {
   "cell_type": "code",
   "execution_count": 5,
   "metadata": {},
   "outputs": [
    {
     "name": "stdout",
     "output_type": "stream",
     "text": [
      "Activation function: 0.8175744761936437\n"
     ]
    }
   ],
   "source": [
    "print(f\"Activation function: {is_number(1.5)}\")"
   ]
  },
  {
   "cell_type": "code",
   "execution_count": 6,
   "metadata": {},
   "outputs": [
    {
     "name": "stdout",
     "output_type": "stream",
     "text": [
      "x must be a number\n",
      "Activation function: False\n"
     ]
    }
   ],
   "source": [
    "print(f\"Activation function: {is_number('a')}\")"
   ]
  },
  {
   "cell_type": "code",
   "execution_count": 7,
   "metadata": {},
   "outputs": [
    {
     "name": "stdout",
     "output_type": "stream",
     "text": [
      "Activation function: 0.7310585786300049\n"
     ]
    }
   ],
   "source": [
    "print(f\"Activation function: {is_number(1)}\")"
   ]
  },
  {
   "cell_type": "markdown",
   "metadata": {},
   "source": [
    "### `Regression Loss`"
   ]
  },
  {
   "cell_type": "code",
   "execution_count": 3,
   "metadata": {},
   "outputs": [],
   "source": [
    "from Regression_loss import *"
   ]
  },
  {
   "cell_type": "code",
   "execution_count": 2,
   "metadata": {},
   "outputs": [
    {
     "name": "stdout",
     "output_type": "stream",
     "text": [
      "Loss name: MAE\n",
      "Sample: 0 | Prediction: 7.3646815087506345 | Target: 8.072575600059068 | Loss value: 0.7078940913084333\n",
      "\n",
      "Loss name: MAE\n",
      "Sample: 1 | Prediction: 6.513022726458624 | Target: 6.045157123269751 | Loss value: 0.4678656031888728\n",
      "\n",
      "Loss name: MAE\n",
      "Sample: 2 | Prediction: 3.8148993584079474 | Target: 0.2914970066645928 | Loss value: 3.5234023517433544\n",
      "\n",
      "Loss name: MAE\n",
      "Sample: 3 | Prediction: 2.0874738343871235 | Target: 0.2845742999916845 | Loss value: 1.8028995343954393\n",
      "\n",
      "Loss name: MAE\n",
      "Sample: 4 | Prediction: 1.5995288929771467 | Target: 1.119164165670401 | Loss value: 0.48036472730674573\n",
      "\n"
     ]
    }
   ],
   "source": [
    "num_samples = input(\"Enter the number of samples: \")\n",
    "regression_loss_func(numb_samples=num_samples)"
   ]
  },
  {
   "cell_type": "markdown",
   "metadata": {},
   "source": [
    "### `Functions ước lượng hàm số`"
   ]
  },
  {
   "cell_type": "code",
   "execution_count": 4,
   "metadata": {},
   "outputs": [],
   "source": [
    "from approximate_functions import *"
   ]
  },
  {
   "cell_type": "code",
   "execution_count": 4,
   "metadata": {},
   "outputs": [
    {
     "name": "stdout",
     "output_type": "stream",
     "text": [
      "Approximate function sin: 0.001592652393160744\n",
      "Approximate function cos: -0.9999987352210833\n",
      "Approximate function sinh: 11.530292029865986\n",
      "Approximate function cosh: 11.573574824666185\n"
     ]
    }
   ],
   "source": [
    "print(f\"Approximate function sin: {approx_sin(x=3.14, n=10)}\")\n",
    "print(f\"Approximate function cos: {approx_cos(x=3.14, n=10)}\")\n",
    "print(f\"Approximate function sinh: {approx_sinh(x=3.14, n=10)}\")\n",
    "print(f\"Approximate function cosh: {approx_cosh(x=3.14, n=10)}\")"
   ]
  },
  {
   "cell_type": "markdown",
   "metadata": {},
   "source": [
    "### `Mean difference`"
   ]
  },
  {
   "cell_type": "code",
   "execution_count": 5,
   "metadata": {},
   "outputs": [],
   "source": [
    "from Mean_difference import *"
   ]
  },
  {
   "cell_type": "code",
   "execution_count": 8,
   "metadata": {},
   "outputs": [
    {
     "name": "stdout",
     "output_type": "stream",
     "text": [
      "Result 1: 0.025031328369998107\n",
      "Result 2: 0.03544417213033135\n",
      "Result 3: 0.05625552183565574\n",
      "Result 4: 0.45836890322464546\n"
     ]
    }
   ],
   "source": [
    "print(f\"Result 1: {mean_difference(yi=100, yhat=99.5, n=2, p=1)}\")\n",
    "print(f\"Result 2: {mean_difference(yi=50, yhat=49.5, n=2, p=1)}\")\n",
    "print(f\"Result 3: {mean_difference(yi=20, yhat=19.5, n=2, p=1)}\")\n",
    "print(f\"Result 4: {mean_difference(yi=0.6, yhat=0.1, n=2, p=1)}\")"
   ]
  },
  {
   "cell_type": "markdown",
   "metadata": {},
   "source": [
    "## II. Trắc nghiệm"
   ]
  },
  {
   "cell_type": "markdown",
   "metadata": {},
   "source": [
    "`Câu hỏi 1` : Viết function thực hiện đánh giá classification model bằng F1-Score. Function nhận vào 3\n",
    "giá trị tp, fp, fn và trả về F1-score"
   ]
  },
  {
   "cell_type": "code",
   "execution_count": 8,
   "metadata": {},
   "outputs": [],
   "source": [
    "def f1_score(tp, fp, fn):\n",
    "    try:\n",
    "        if type(tp) != int:\n",
    "            raise TypeError(\"tp must be an integer\")\n",
    "        elif type(fp) != int:\n",
    "            raise TypeError(\"fp must be an integer\")\n",
    "        elif type(fn) != int:\n",
    "            raise TypeError(\"fn must be an integer\")\n",
    "\n",
    "        if tp <= 0 or fp <= 0 or fn <= 0:\n",
    "            raise ValueError(\"tp and fp and fn must be greater than 0\")\n",
    "\n",
    "        f1 = 2 * (precision(tp, fp) * recall(tp, fn)) / \\\n",
    "            (precision(tp, fp) + recall(tp, fn))\n",
    "\n",
    "        return f1\n",
    "    except Exception as e:\n",
    "        print(e)"
   ]
  },
  {
   "cell_type": "code",
   "execution_count": 9,
   "metadata": {},
   "outputs": [
    {
     "data": {
      "text/plain": [
       "0.31"
      ]
     },
     "execution_count": 9,
     "metadata": {},
     "output_type": "execute_result"
    }
   ],
   "source": [
    "round(f1_score(tp=2, fp=4, fn=5), 2)"
   ]
  },
  {
   "cell_type": "markdown",
   "metadata": {},
   "source": [
    "`Answer:` *c) 0.31*"
   ]
  },
  {
   "cell_type": "markdown",
   "metadata": {},
   "source": [
    "</br>"
   ]
  },
  {
   "cell_type": "markdown",
   "metadata": {},
   "source": [
    "`Câu hỏi 2` : Viết function is_number nhận input có thể là string hoặc một số **kiểm tra n (một\n",
    "số) có hợp lệ hay không** (vd: n=’10’, is_number(n) sẽ trả về True ngược lại là False). Đầu ra của\n",
    "chương trình sau đây là gì?"
   ]
  },
  {
   "cell_type": "code",
   "execution_count": 25,
   "metadata": {},
   "outputs": [],
   "source": [
    "def is_number(x):\n",
    "    return True if type(x) == int or type(x) == float else True if x.isdigit() else False"
   ]
  },
  {
   "cell_type": "code",
   "execution_count": 27,
   "metadata": {},
   "outputs": [
    {
     "name": "stdout",
     "output_type": "stream",
     "text": [
      "True\n",
      "True\n",
      "False\n"
     ]
    }
   ],
   "source": [
    "print(is_number(1))\n",
    "print(is_number('1'))\n",
    "print(is_number('n'))"
   ]
  },
  {
   "cell_type": "markdown",
   "metadata": {},
   "source": [
    "`Answer:` *b) True | False*"
   ]
  },
  {
   "cell_type": "markdown",
   "metadata": {},
   "source": [
    "</br>"
   ]
  },
  {
   "cell_type": "markdown",
   "metadata": {},
   "source": [
    "`Câu hỏi 3` : Đoạn code dưới đây đang thực hiện activation function nào?"
   ]
  },
  {
   "cell_type": "markdown",
   "metadata": {},
   "source": [
    "`Answer:` *c) ReLU*"
   ]
  },
  {
   "cell_type": "markdown",
   "metadata": {},
   "source": [
    "</br>"
   ]
  },
  {
   "cell_type": "markdown",
   "metadata": {},
   "source": [
    "`Câu hỏi 4` : Viết function thực hiện Sigmoid Function \\( f(x) = \\frac{1}{1 + e^{-x}} \\). Nhận input là x và return kết quả tương ứng trong Sigmoid Function. Đầu ra của chương trình sau đây là gì?"
   ]
  },
  {
   "cell_type": "code",
   "execution_count": 29,
   "metadata": {},
   "outputs": [],
   "source": [
    "def sigmoid(x):\n",
    "    return 1 / (1 + math.exp(-x))"
   ]
  },
  {
   "cell_type": "code",
   "execution_count": 30,
   "metadata": {},
   "outputs": [
    {
     "data": {
      "text/plain": [
       "0.88"
      ]
     },
     "execution_count": 30,
     "metadata": {},
     "output_type": "execute_result"
    }
   ],
   "source": [
    "round(sigmoid(2), 2)"
   ]
  },
  {
   "cell_type": "markdown",
   "metadata": {},
   "source": [
    "`Answer:` *a) 0.88*"
   ]
  },
  {
   "cell_type": "markdown",
   "metadata": {},
   "source": [
    "</br>"
   ]
  },
  {
   "cell_type": "markdown",
   "metadata": {},
   "source": [
    "`Câu hỏi 5`:\n",
    "\n",
    "Viết function thực hiện Elu Function \\( f(x) = \n",
    "\\begin{cases} \n",
    "\\alpha (e^x - 1) & \\text{if } x \\leq 0 \\\\\n",
    "x & \\text{if } x > 0 \n",
    "\\end{cases}\n",
    "\\). Nhận input là x và return kết quả tương ứng trong Elu Function. Đầu ra của chương trình sau đây là gì khi \\(\\alpha = 0.01\\)?\n",
    "\n",
    "```python"
   ]
  },
  {
   "cell_type": "code",
   "execution_count": 31,
   "metadata": {},
   "outputs": [],
   "source": [
    "def elu(x, alpha=0.01):\n",
    "    if x <= 0:\n",
    "        return alpha * (math.exp(x) - 1)\n",
    "    else:\n",
    "        return x"
   ]
  },
  {
   "cell_type": "code",
   "execution_count": 46,
   "metadata": {},
   "outputs": [
    {
     "data": {
      "text/plain": [
       "-0.01"
      ]
     },
     "execution_count": 46,
     "metadata": {},
     "output_type": "execute_result"
    }
   ],
   "source": [
    "round(elu(-1), 2)"
   ]
  },
  {
   "cell_type": "markdown",
   "metadata": {},
   "source": [
    "`Answer:` *b) -0.01*"
   ]
  },
  {
   "cell_type": "markdown",
   "metadata": {},
   "source": [
    "</br>"
   ]
  },
  {
   "cell_type": "markdown",
   "metadata": {},
   "source": [
    "`Câu hỏi 6` : Viết function nhận 2 giá trị x, và tên của activation function act_name **activation\n",
    "function chỉ có 3 loại (sigmoid, relu, elu)**, thực hiện tính toán activation function tương ứng với\n",
    "name nhận được trên giá trị của x và trả kết quả. Đầu ra của chương trình sau đây là gì?"
   ]
  },
  {
   "cell_type": "code",
   "execution_count": 47,
   "metadata": {},
   "outputs": [],
   "source": [
    "def activation_function(x, act_name, alpha=0.01):\n",
    "    if act_name == \"sigmoid\":\n",
    "        return 1 / (1 + math.exp(-x))\n",
    "    elif act_name == \"relu\":\n",
    "        return max(0, x)\n",
    "    elif act_name == \"elu\":\n",
    "        if x <= 0:\n",
    "            return alpha * (math.exp(x) - 1)\n",
    "        else:\n",
    "            return x\n",
    "    else:\n",
    "        raise ValueError(\"Unsupported activation function\")"
   ]
  },
  {
   "cell_type": "code",
   "execution_count": 49,
   "metadata": {},
   "outputs": [
    {
     "name": "stdout",
     "output_type": "stream",
     "text": [
      "0.95\n"
     ]
    }
   ],
   "source": [
    "print ( round ( activation_function (x = 3 , act_name ='sigmoid') , 2) )"
   ]
  },
  {
   "cell_type": "markdown",
   "metadata": {},
   "source": [
    "`Answer:` *a) 0.95*"
   ]
  },
  {
   "cell_type": "markdown",
   "metadata": {},
   "source": [
    "</br>"
   ]
  },
  {
   "cell_type": "markdown",
   "metadata": {},
   "source": [
    "`Câu hỏi 7`:\n",
    "\n",
    "Viết function tính absolute error \\( \\text{absolute error} = |y - \\hat{y}| \\). Nhận input là y và \\(\\hat{y}\\), return về kết quả absolute error tương ứng. Đầu ra của chương trình sau đây là gì?\n",
    "\n",
    "```python"
   ]
  },
  {
   "cell_type": "code",
   "execution_count": 53,
   "metadata": {},
   "outputs": [],
   "source": [
    "def absolute_error(y, y_hat):\n",
    "    return abs(y - y_hat)"
   ]
  },
  {
   "cell_type": "code",
   "execution_count": 54,
   "metadata": {},
   "outputs": [
    {
     "name": "stdout",
     "output_type": "stream",
     "text": [
      "7\n"
     ]
    }
   ],
   "source": [
    "print (absolute_error(2 , 9))"
   ]
  },
  {
   "cell_type": "markdown",
   "metadata": {},
   "source": [
    "`Answer:` *a) 7*"
   ]
  },
  {
   "cell_type": "markdown",
   "metadata": {},
   "source": [
    "</br>"
   ]
  },
  {
   "cell_type": "markdown",
   "metadata": {},
   "source": [
    "`Câu hỏi 8` : Viết function tính squared error = (y−yˆ)\n",
    "2\n",
    ". Nhận input là y và yˆ, return về kết quả squared\n",
    "error tương ứng. Đầu ra của chương trình sau đây là gì?\n"
   ]
  },
  {
   "cell_type": "code",
   "execution_count": 56,
   "metadata": {},
   "outputs": [],
   "source": [
    "def squared_error(y, y_hat):\n",
    "    return (y - y_hat) ** 2"
   ]
  },
  {
   "cell_type": "code",
   "execution_count": 57,
   "metadata": {},
   "outputs": [
    {
     "name": "stdout",
     "output_type": "stream",
     "text": [
      "1\n"
     ]
    }
   ],
   "source": [
    "print (squared_error(2, 1))"
   ]
  },
  {
   "cell_type": "markdown",
   "metadata": {},
   "source": [
    "`Answer:` *a) 1*"
   ]
  },
  {
   "cell_type": "markdown",
   "metadata": {},
   "source": [
    "</br>"
   ]
  },
  {
   "cell_type": "markdown",
   "metadata": {},
   "source": [
    "`Câu hỏi 9` : Dựa vào công thức xấp xỉ cos và điều kiện được giới thiệu. Viết function xấp xỉ cos khi nhận x là giá trị muốn tính cos(x) và n là số lần lặp muốn xấp xỉ. Return về kết quả\n",
    "cos(x) với bậc xấp xỉ tương ứng. Đầu ra của chương trình sau đây là gì?"
   ]
  },
  {
   "cell_type": "code",
   "execution_count": 59,
   "metadata": {},
   "outputs": [],
   "source": [
    "def approximate_cos(x, n):\n",
    "    cos_x = 0\n",
    "    sign = 1\n",
    "    for i in range(n):\n",
    "        term = (x ** (2 * i)) / math.factorial(2 * i)\n",
    "        cos_x += sign * term\n",
    "        sign *= -1\n",
    "    return cos_x"
   ]
  },
  {
   "cell_type": "code",
   "execution_count": 60,
   "metadata": {},
   "outputs": [
    {
     "name": "stdout",
     "output_type": "stream",
     "text": [
      "-1.0\n"
     ]
    }
   ],
   "source": [
    "print ( round ( approximate_cos ( x =3.14 , n =10) , 2) )"
   ]
  },
  {
   "cell_type": "markdown",
   "metadata": {},
   "source": [
    "`Answer:` *c) -1*"
   ]
  },
  {
   "cell_type": "markdown",
   "metadata": {},
   "source": [
    "</br>"
   ]
  },
  {
   "cell_type": "markdown",
   "metadata": {},
   "source": [
    "`Câu hỏi 10` : Dựa vào công thức xấp xỉ sin và điều kiện được giới thiệu. Viết\n",
    "function xấp xỉ sin khi nhận x là giá trị muốn tính sin(x) và n là số lần lặp muốn xấp xỉ. Return về kết\n",
    "quả sin(x) với bậc xấp xỉ tương ứng. Đầu ra của chương trình sau đây là gì?"
   ]
  },
  {
   "cell_type": "code",
   "execution_count": 62,
   "metadata": {},
   "outputs": [],
   "source": [
    "def approximate_sin(x, n):\n",
    "    sin_x = 0\n",
    "    sign = 1\n",
    "    for i in range(n):\n",
    "        term = (x ** (2 * i + 1)) / math.factorial(2 * i + 1)\n",
    "        sin_x += sign * term\n",
    "        sign *= -1\n",
    "    return sin_x"
   ]
  },
  {
   "cell_type": "code",
   "execution_count": 63,
   "metadata": {},
   "outputs": [
    {
     "name": "stdout",
     "output_type": "stream",
     "text": [
      "0.0016\n"
     ]
    }
   ],
   "source": [
    "print ( round ( approximate_sin ( x =3.14 , n =10) , 4) )"
   ]
  },
  {
   "cell_type": "markdown",
   "metadata": {},
   "source": [
    "`Answer:` *a) 0.0016*"
   ]
  },
  {
   "cell_type": "markdown",
   "metadata": {},
   "source": [
    "</br>"
   ]
  },
  {
   "cell_type": "markdown",
   "metadata": {},
   "source": [
    "`Câu hỏi 11` : Dựa vào công thức xấp xỉ sinh và điều kiện được giới thiệu các bạn click ở đây. Viết\n",
    "function xấp xỉ sinh khi nhận x là giá trị muốn tính sinh(x) và n là số lần lặp muốn xấp xỉ. Return về\n",
    "kết quả sinh(x) với bậc xấp xỉ tương ứng. Đầu ra của chương trình sau đây là gì?"
   ]
  },
  {
   "cell_type": "code",
   "execution_count": 66,
   "metadata": {},
   "outputs": [],
   "source": [
    "def approximate_sinh(x, n):\n",
    "    sinh_x = 0\n",
    "    for i in range(n):\n",
    "        term = (x ** (2 * i + 1)) / math.factorial(2 * i + 1)\n",
    "        sinh_x += term\n",
    "    return sinh_x"
   ]
  },
  {
   "cell_type": "code",
   "execution_count": 67,
   "metadata": {},
   "outputs": [
    {
     "name": "stdout",
     "output_type": "stream",
     "text": [
      "11.53\n"
     ]
    }
   ],
   "source": [
    "print ( round ( approximate_sinh ( x =3.14 , n =10) , 2) )"
   ]
  },
  {
   "cell_type": "markdown",
   "metadata": {},
   "source": [
    "`Answer:` *a) 11.53*"
   ]
  },
  {
   "cell_type": "markdown",
   "metadata": {},
   "source": [
    "</br>"
   ]
  },
  {
   "cell_type": "markdown",
   "metadata": {},
   "source": [
    "`Câu hỏi 12` : Dựa vào công thức xấp xỉ cosh và điều kiện được giới thiệu. Viết\n",
    "function xấp xỉ cosh khi nhận x là giá trị muốn tính cosh(x) và n là số lần lặp muốn xấp xỉ. Return về\n",
    "kết quả cosh(x) với bậc xấp xỉ tương ứng. Đầu ra của chương trình sau đây là gì?"
   ]
  },
  {
   "cell_type": "code",
   "execution_count": 69,
   "metadata": {},
   "outputs": [],
   "source": [
    "def approximate_cosh(x, n):\n",
    "    result = 1\n",
    "    for i in range(1, n + 1):\n",
    "        result += (x ** (2 * i)) / (factorial(2 * i))\n",
    "    return result"
   ]
  },
  {
   "cell_type": "code",
   "execution_count": 70,
   "metadata": {},
   "outputs": [
    {
     "name": "stdout",
     "output_type": "stream",
     "text": [
      "11.57\n"
     ]
    }
   ],
   "source": [
    "print ( round ( approximate_cosh ( x =3.14 , n =10) , 2) )"
   ]
  },
  {
   "cell_type": "markdown",
   "metadata": {},
   "source": [
    "`Answer:` *a) 11.57*"
   ]
  },
  {
   "cell_type": "markdown",
   "metadata": {},
   "source": [
    "</br>"
   ]
  },
  {
   "cell_type": "markdown",
   "metadata": {},
   "source": [
    "`Câu hỏi 13` : Đoạn code nào thực hiện đúng Mean Difference of n\n",
    "th Root Error được miêu tả ở trên?"
   ]
  },
  {
   "cell_type": "markdown",
   "metadata": {},
   "source": [
    "`Answer:` *a) (A)*"
   ]
  }
 ],
 "metadata": {
  "kernelspec": {
   "display_name": "base",
   "language": "python",
   "name": "python3"
  },
  "language_info": {
   "codemirror_mode": {
    "name": "ipython",
    "version": 3
   },
   "file_extension": ".py",
   "mimetype": "text/x-python",
   "name": "python",
   "nbconvert_exporter": "python",
   "pygments_lexer": "ipython3",
   "version": "3.11.5"
  }
 },
 "nbformat": 4,
 "nbformat_minor": 2
}
