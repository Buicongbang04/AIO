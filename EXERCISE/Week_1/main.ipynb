{
 "cells": [
  {
   "cell_type": "markdown",
   "metadata": {},
   "source": [
    "### F1 Score"
   ]
  },
  {
   "cell_type": "code",
   "execution_count": 1,
   "metadata": {},
   "outputs": [],
   "source": [
    "from F1_score import *"
   ]
  },
  {
   "cell_type": "code",
   "execution_count": 2,
   "metadata": {},
   "outputs": [
    {
     "name": "stdout",
     "output_type": "stream",
     "text": [
      "Precision is :  0.40\n",
      "Recall is :  0.33\n",
      "F1 score is :  0.36\n"
     ]
    }
   ],
   "source": [
    "print(f\"Precision is : {precision(2, 3): .2f}\")\n",
    "print(f\"Recall is : {recall(2, 4): .2f}\")\n",
    "print(f\"F1 score is : {f1_score(2, 3, 4): .2f}\")"
   ]
  },
  {
   "cell_type": "code",
   "execution_count": 3,
   "metadata": {},
   "outputs": [
    {
     "name": "stdout",
     "output_type": "stream",
     "text": [
      "tp must be an integer\n",
      "fp must be an integer\n",
      "fn must be an integer\n",
      "tp and fp and fn must be greater than 0\n"
     ]
    }
   ],
   "source": [
    "exercise1 = f1_score('a', 3, 4)\n",
    "exercise1 = f1_score(2, 'a', 4)\n",
    "exercise1 = f1_score(2, 3, 'a')\n",
    "\n",
    "exercise1 = f1_score(2, 3, 0)"
   ]
  },
  {
   "cell_type": "markdown",
   "metadata": {},
   "source": [
    "### Activation"
   ]
  },
  {
   "cell_type": "code",
   "execution_count": 4,
   "metadata": {},
   "outputs": [],
   "source": [
    "from Activation import *"
   ]
  },
  {
   "cell_type": "code",
   "execution_count": 5,
   "metadata": {},
   "outputs": [
    {
     "name": "stdout",
     "output_type": "stream",
     "text": [
      "Activation function: 0.8175744761936437\n"
     ]
    }
   ],
   "source": [
    "print(f\"Activation function: {is_number(1.5)}\")"
   ]
  },
  {
   "cell_type": "code",
   "execution_count": 6,
   "metadata": {},
   "outputs": [
    {
     "name": "stdout",
     "output_type": "stream",
     "text": [
      "x must be a number\n",
      "Activation function: False\n"
     ]
    }
   ],
   "source": [
    "print(f\"Activation function: {is_number('a')}\")"
   ]
  },
  {
   "cell_type": "code",
   "execution_count": 7,
   "metadata": {},
   "outputs": [
    {
     "name": "stdout",
     "output_type": "stream",
     "text": [
      "Activation function: 0.7310585786300049\n"
     ]
    }
   ],
   "source": [
    "print(f\"Activation function: {is_number(1)}\")"
   ]
  },
  {
   "cell_type": "markdown",
   "metadata": {},
   "source": [
    "### Regression Loss"
   ]
  },
  {
   "cell_type": "code",
   "execution_count": 1,
   "metadata": {},
   "outputs": [],
   "source": [
    "from Regression_loss import *"
   ]
  },
  {
   "cell_type": "code",
   "execution_count": 2,
   "metadata": {},
   "outputs": [
    {
     "name": "stdout",
     "output_type": "stream",
     "text": [
      "Loss name: MAE\n",
      "Sample: 0 | Prediction: 7.3646815087506345 | Target: 8.072575600059068 | Loss value: 0.7078940913084333\n",
      "\n",
      "Loss name: MAE\n",
      "Sample: 1 | Prediction: 6.513022726458624 | Target: 6.045157123269751 | Loss value: 0.4678656031888728\n",
      "\n",
      "Loss name: MAE\n",
      "Sample: 2 | Prediction: 3.8148993584079474 | Target: 0.2914970066645928 | Loss value: 3.5234023517433544\n",
      "\n",
      "Loss name: MAE\n",
      "Sample: 3 | Prediction: 2.0874738343871235 | Target: 0.2845742999916845 | Loss value: 1.8028995343954393\n",
      "\n",
      "Loss name: MAE\n",
      "Sample: 4 | Prediction: 1.5995288929771467 | Target: 1.119164165670401 | Loss value: 0.48036472730674573\n",
      "\n"
     ]
    }
   ],
   "source": [
    "num_samples = input(\"Enter the number of samples: \")\n",
    "regression_loss_func(numb_samples=num_samples)"
   ]
  },
  {
   "cell_type": "code",
   "execution_count": 17,
   "metadata": {},
   "outputs": [],
   "source": []
  },
  {
   "cell_type": "code",
   "execution_count": null,
   "metadata": {},
   "outputs": [],
   "source": []
  }
 ],
 "metadata": {
  "kernelspec": {
   "display_name": "base",
   "language": "python",
   "name": "python3"
  },
  "language_info": {
   "codemirror_mode": {
    "name": "ipython",
    "version": 3
   },
   "file_extension": ".py",
   "mimetype": "text/x-python",
   "name": "python",
   "nbconvert_exporter": "python",
   "pygments_lexer": "ipython3",
   "version": "3.11.5"
  }
 },
 "nbformat": 4,
 "nbformat_minor": 2
}
